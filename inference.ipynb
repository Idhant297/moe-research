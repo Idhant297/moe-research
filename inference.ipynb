{
 "cells": [
  {
   "cell_type": "markdown",
   "metadata": {},
   "source": [
    "### inference for olmoe"
   ]
  },
  {
   "cell_type": "code",
   "execution_count": 4,
   "metadata": {},
   "outputs": [
    {
     "data": {
      "application/vnd.jupyter.widget-view+json": {
       "model_id": "681b722f89414ac39bd47be7ceedbf40",
       "version_major": 2,
       "version_minor": 0
      },
      "text/plain": [
       "Loading checkpoint shards:   0%|          | 0/3 [00:00<?, ?it/s]"
      ]
     },
     "metadata": {},
     "output_type": "display_data"
    },
    {
     "data": {
      "text/plain": [
       "OlmoeForCausalLM(\n",
       "  (model): OlmoeModel(\n",
       "    (embed_tokens): Embedding(50304, 2048, padding_idx=1)\n",
       "    (layers): ModuleList(\n",
       "      (0-15): 16 x OlmoeDecoderLayer(\n",
       "        (self_attn): OlmoeSdpaAttention(\n",
       "          (q_proj): Linear(in_features=2048, out_features=2048, bias=False)\n",
       "          (k_proj): Linear(in_features=2048, out_features=2048, bias=False)\n",
       "          (v_proj): Linear(in_features=2048, out_features=2048, bias=False)\n",
       "          (o_proj): Linear(in_features=2048, out_features=2048, bias=False)\n",
       "          (q_norm): OlmoeRMSNorm((2048,), eps=1e-05)\n",
       "          (k_norm): OlmoeRMSNorm((2048,), eps=1e-05)\n",
       "        )\n",
       "        (mlp): OlmoeSparseMoeBlock(\n",
       "          (gate): Linear(in_features=2048, out_features=64, bias=False)\n",
       "          (experts): ModuleList(\n",
       "            (0-63): 64 x OlmoeMLP(\n",
       "              (gate_proj): Linear(in_features=2048, out_features=1024, bias=False)\n",
       "              (up_proj): Linear(in_features=2048, out_features=1024, bias=False)\n",
       "              (down_proj): Linear(in_features=1024, out_features=2048, bias=False)\n",
       "              (act_fn): SiLU()\n",
       "            )\n",
       "          )\n",
       "        )\n",
       "        (input_layernorm): OlmoeRMSNorm((2048,), eps=1e-05)\n",
       "        (post_attention_layernorm): OlmoeRMSNorm((2048,), eps=1e-05)\n",
       "      )\n",
       "    )\n",
       "    (norm): OlmoeRMSNorm((2048,), eps=1e-05)\n",
       "    (rotary_emb): OlmoeRotaryEmbedding()\n",
       "  )\n",
       "  (lm_head): Linear(in_features=2048, out_features=50304, bias=False)\n",
       ")"
      ]
     },
     "execution_count": 4,
     "metadata": {},
     "output_type": "execute_result"
    }
   ],
   "source": [
    "from transformers import OlmoeForCausalLM, AutoTokenizer\n",
    "import torch\n",
    "import torch.nn.functional as F\n",
    "\n",
    "# Load the model and tokenizer\n",
    "model = OlmoeForCausalLM.from_pretrained(\"allenai/OLMoE-1B-7B-0924\")\n",
    "tokenizer = AutoTokenizer.from_pretrained(\"allenai/OLMoE-1B-7B-0924\")\n",
    "\n",
    "# Set the model to evaluation mode\n",
    "model.eval()"
   ]
  },
  {
   "cell_type": "markdown",
   "metadata": {},
   "source": [
    "### to get the router logits and probabilities"
   ]
  },
  {
   "cell_type": "code",
   "execution_count": 5,
   "metadata": {},
   "outputs": [
    {
     "name": "stdout",
     "output_type": "stream",
     "text": [
      "Tokenized input:\n",
      "Token: 'this', ID: 2520\n",
      "Token: ' is', ID: 310\n",
      "Token: ' a', ID: 247\n",
      "Token: ' sample', ID: 3410\n",
      "Token: ' input', ID: 3280\n",
      "\n",
      "Input shape: torch.Size([1, 5])\n",
      "Token: 'this' (ID: 2520)\n",
      "  expert 0: logit = -0.2219, post-softmax = 0.0253\n",
      "  expert 1: logit = -0.3173, post-softmax = 0.0230\n",
      "  expert 2: logit = -1.1706, post-softmax = 0.0098\n",
      "  expert 3: logit = -2.2602, post-softmax = 0.0033\n",
      "  expert 4: logit = -1.0775, post-softmax = 0.0107\n",
      "  expert 5: logit = -1.1462, post-softmax = 0.0100\n",
      "  expert 6: logit = -1.5410, post-softmax = 0.0068\n",
      "  expert 7: logit = -2.2310, post-softmax = 0.0034\n",
      "  expert 8: logit = -0.3846, post-softmax = 0.0215\n",
      "  expert 9: logit = -1.9906, post-softmax = 0.0043\n",
      "  expert 10: logit = -1.7290, post-softmax = 0.0056\n",
      "  expert 11: logit = -1.3310, post-softmax = 0.0083\n",
      "  expert 12: logit = -1.0972, post-softmax = 0.0105\n",
      "  expert 13: logit = -1.5821, post-softmax = 0.0065\n",
      "  expert 14: logit = -1.4272, post-softmax = 0.0076\n",
      "  expert 15: logit = -1.4622, post-softmax = 0.0073\n",
      "  expert 16: logit = -1.7910, post-softmax = 0.0053\n",
      "  expert 17: logit = 0.0627, post-softmax = 0.0336\n",
      "  expert 18: logit = -1.1191, post-softmax = 0.0103\n",
      "  expert 19: logit = -0.9551, post-softmax = 0.0121\n",
      "  expert 20: logit = 0.6490, post-softmax = 0.0604\n",
      "  expert 21: logit = -1.2457, post-softmax = 0.0091\n",
      "  expert 22: logit = -0.7098, post-softmax = 0.0155\n",
      "  expert 23: logit = -1.1989, post-softmax = 0.0095\n",
      "  expert 24: logit = 0.4507, post-softmax = 0.0495\n",
      "  expert 25: logit = -1.8793, post-softmax = 0.0048\n",
      "  expert 26: logit = -2.9428, post-softmax = 0.0017\n",
      "  expert 27: logit = -2.2609, post-softmax = 0.0033\n",
      "  expert 28: logit = 1.0632, post-softmax = 0.0914\n",
      "  expert 29: logit = -1.4508, post-softmax = 0.0074\n",
      "  expert 30: logit = 0.1663, post-softmax = 0.0373\n",
      "  expert 31: logit = -0.5346, post-softmax = 0.0185\n",
      "  expert 32: logit = -2.3634, post-softmax = 0.0030\n",
      "  expert 33: logit = -4.2044, post-softmax = 0.0005\n",
      "  expert 34: logit = -1.0743, post-softmax = 0.0108\n",
      "  expert 35: logit = -0.3758, post-softmax = 0.0217\n",
      "  expert 36: logit = 0.2289, post-softmax = 0.0397\n",
      "  expert 37: logit = -0.5997, post-softmax = 0.0173\n",
      "  expert 38: logit = -2.0809, post-softmax = 0.0039\n",
      "  expert 39: logit = -2.2584, post-softmax = 0.0033\n",
      "  expert 40: logit = -0.2260, post-softmax = 0.0252\n",
      "  expert 41: logit = -1.0448, post-softmax = 0.0111\n",
      "  expert 42: logit = -0.7987, post-softmax = 0.0142\n",
      "  expert 43: logit = -0.5390, post-softmax = 0.0184\n",
      "  expert 44: logit = 0.9572, post-softmax = 0.0822\n",
      "  expert 45: logit = -3.3141, post-softmax = 0.0011\n",
      "  expert 46: logit = -2.0085, post-softmax = 0.0042\n",
      "  expert 47: logit = -1.7245, post-softmax = 0.0056\n",
      "  expert 48: logit = -3.1078, post-softmax = 0.0014\n",
      "  expert 49: logit = -2.3876, post-softmax = 0.0029\n",
      "  expert 50: logit = -1.9436, post-softmax = 0.0045\n",
      "  expert 51: logit = -1.4731, post-softmax = 0.0072\n",
      "  expert 52: logit = -2.1637, post-softmax = 0.0036\n",
      "  expert 53: logit = -0.8854, post-softmax = 0.0130\n",
      "  expert 54: logit = -1.9595, post-softmax = 0.0044\n",
      "  expert 55: logit = -0.5847, post-softmax = 0.0176\n",
      "  expert 56: logit = -1.4569, post-softmax = 0.0074\n",
      "  expert 57: logit = -1.5253, post-softmax = 0.0069\n",
      "  expert 58: logit = -1.2130, post-softmax = 0.0094\n",
      "  expert 59: logit = -1.4962, post-softmax = 0.0071\n",
      "  expert 60: logit = -2.3727, post-softmax = 0.0029\n",
      "  expert 61: logit = -2.2871, post-softmax = 0.0032\n",
      "  expert 62: logit = -1.7581, post-softmax = 0.0054\n",
      "  expert 63: logit = 1.2246, post-softmax = 0.1074\n",
      "\n",
      "Token: ' is' (ID: 310)\n",
      "  expert 0: logit = -1.3275, post-softmax = 0.0117\n",
      "  expert 1: logit = -1.8353, post-softmax = 0.0071\n",
      "  expert 2: logit = -3.1129, post-softmax = 0.0020\n",
      "  expert 3: logit = -0.7678, post-softmax = 0.0205\n",
      "  expert 4: logit = -1.1804, post-softmax = 0.0136\n",
      "  expert 5: logit = -2.6633, post-softmax = 0.0031\n",
      "  expert 6: logit = -1.3960, post-softmax = 0.0110\n",
      "  expert 7: logit = -0.5972, post-softmax = 0.0244\n",
      "  expert 8: logit = -0.6241, post-softmax = 0.0237\n",
      "  expert 9: logit = -0.9012, post-softmax = 0.0180\n",
      "  expert 10: logit = -0.2593, post-softmax = 0.0342\n",
      "  expert 11: logit = -1.5070, post-softmax = 0.0098\n",
      "  expert 12: logit = -0.7774, post-softmax = 0.0204\n",
      "  expert 13: logit = -0.1740, post-softmax = 0.0372\n",
      "  expert 14: logit = -0.8965, post-softmax = 0.0181\n",
      "  expert 15: logit = 0.4642, post-softmax = 0.0704\n",
      "  expert 16: logit = -1.0721, post-softmax = 0.0152\n",
      "  expert 17: logit = -0.5126, post-softmax = 0.0265\n",
      "  expert 18: logit = -0.9838, post-softmax = 0.0166\n",
      "  expert 19: logit = -2.7739, post-softmax = 0.0028\n",
      "  expert 20: logit = -2.0282, post-softmax = 0.0058\n",
      "  expert 21: logit = -1.9506, post-softmax = 0.0063\n",
      "  expert 22: logit = -1.8752, post-softmax = 0.0068\n",
      "  expert 23: logit = -3.2543, post-softmax = 0.0017\n",
      "  expert 24: logit = -0.5429, post-softmax = 0.0257\n",
      "  expert 25: logit = -1.2130, post-softmax = 0.0132\n",
      "  expert 26: logit = -1.3155, post-softmax = 0.0119\n",
      "  expert 27: logit = -0.9291, post-softmax = 0.0175\n",
      "  expert 28: logit = -1.8359, post-softmax = 0.0071\n",
      "  expert 29: logit = -0.8779, post-softmax = 0.0184\n",
      "  expert 30: logit = -0.3957, post-softmax = 0.0298\n",
      "  expert 31: logit = -1.9206, post-softmax = 0.0065\n",
      "  expert 32: logit = -1.4829, post-softmax = 0.0101\n",
      "  expert 33: logit = -2.0469, post-softmax = 0.0057\n",
      "  expert 34: logit = -0.6812, post-softmax = 0.0224\n",
      "  expert 35: logit = -1.2973, post-softmax = 0.0121\n",
      "  expert 36: logit = -1.7210, post-softmax = 0.0079\n",
      "  expert 37: logit = -1.4601, post-softmax = 0.0103\n",
      "  expert 38: logit = -0.7716, post-softmax = 0.0205\n",
      "  expert 39: logit = -1.1356, post-softmax = 0.0142\n",
      "  expert 40: logit = -2.4377, post-softmax = 0.0039\n",
      "  expert 41: logit = -2.5415, post-softmax = 0.0035\n",
      "  expert 42: logit = -1.8306, post-softmax = 0.0071\n",
      "  expert 43: logit = -1.9678, post-softmax = 0.0062\n",
      "  expert 44: logit = -2.0375, post-softmax = 0.0058\n",
      "  expert 45: logit = -0.9030, post-softmax = 0.0179\n",
      "  expert 46: logit = -0.5103, post-softmax = 0.0266\n",
      "  expert 47: logit = -1.6109, post-softmax = 0.0088\n",
      "  expert 48: logit = -0.6897, post-softmax = 0.0222\n",
      "  expert 49: logit = -0.6104, post-softmax = 0.0241\n",
      "  expert 50: logit = -0.7163, post-softmax = 0.0216\n",
      "  expert 51: logit = -1.0478, post-softmax = 0.0155\n",
      "  expert 52: logit = -1.4288, post-softmax = 0.0106\n",
      "  expert 53: logit = -1.7407, post-softmax = 0.0078\n",
      "  expert 54: logit = -2.4211, post-softmax = 0.0039\n",
      "  expert 55: logit = -2.5386, post-softmax = 0.0035\n",
      "  expert 56: logit = -1.3521, post-softmax = 0.0115\n",
      "  expert 57: logit = -1.9816, post-softmax = 0.0061\n",
      "  expert 58: logit = -1.9796, post-softmax = 0.0061\n",
      "  expert 59: logit = -0.5599, post-softmax = 0.0253\n",
      "  expert 60: logit = -2.0177, post-softmax = 0.0059\n",
      "  expert 61: logit = -1.0672, post-softmax = 0.0152\n",
      "  expert 62: logit = 0.6352, post-softmax = 0.0836\n",
      "  expert 63: logit = -0.9380, post-softmax = 0.0173\n",
      "\n",
      "Token: ' a' (ID: 247)\n",
      "  expert 0: logit = -1.3754, post-softmax = 0.0082\n",
      "  expert 1: logit = -1.9022, post-softmax = 0.0048\n",
      "  expert 2: logit = -3.8458, post-softmax = 0.0007\n",
      "  expert 3: logit = -0.6274, post-softmax = 0.0173\n",
      "  expert 4: logit = -2.0642, post-softmax = 0.0041\n",
      "  expert 5: logit = -3.3312, post-softmax = 0.0012\n",
      "  expert 6: logit = -1.2619, post-softmax = 0.0092\n",
      "  expert 7: logit = 0.6485, post-softmax = 0.0619\n",
      "  expert 8: logit = -0.4143, post-softmax = 0.0214\n",
      "  expert 9: logit = -1.1544, post-softmax = 0.0102\n",
      "  expert 10: logit = -2.9886, post-softmax = 0.0016\n",
      "  expert 11: logit = -2.7097, post-softmax = 0.0022\n",
      "  expert 12: logit = -0.6315, post-softmax = 0.0172\n",
      "  expert 13: logit = -2.8256, post-softmax = 0.0019\n",
      "  expert 14: logit = 0.0604, post-softmax = 0.0344\n",
      "  expert 15: logit = -1.8370, post-softmax = 0.0052\n",
      "  expert 16: logit = -1.7872, post-softmax = 0.0054\n",
      "  expert 17: logit = -0.5594, post-softmax = 0.0185\n",
      "  expert 18: logit = -0.5245, post-softmax = 0.0191\n",
      "  expert 19: logit = -2.4604, post-softmax = 0.0028\n",
      "  expert 20: logit = 1.2219, post-softmax = 0.1098\n",
      "  expert 21: logit = 0.5337, post-softmax = 0.0552\n",
      "  expert 22: logit = -1.0819, post-softmax = 0.0110\n",
      "  expert 23: logit = -3.3628, post-softmax = 0.0011\n",
      "  expert 24: logit = -0.5391, post-softmax = 0.0189\n",
      "  expert 25: logit = -0.0925, post-softmax = 0.0295\n",
      "  expert 26: logit = -0.1266, post-softmax = 0.0285\n",
      "  expert 27: logit = 0.2759, post-softmax = 0.0426\n",
      "  expert 28: logit = -2.0016, post-softmax = 0.0044\n",
      "  expert 29: logit = -0.9634, post-softmax = 0.0123\n",
      "  expert 30: logit = -0.0735, post-softmax = 0.0301\n",
      "  expert 31: logit = -2.0527, post-softmax = 0.0042\n",
      "  expert 32: logit = -1.6380, post-softmax = 0.0063\n",
      "  expert 33: logit = -1.5458, post-softmax = 0.0069\n",
      "  expert 34: logit = -0.3724, post-softmax = 0.0223\n",
      "  expert 35: logit = -1.4057, post-softmax = 0.0079\n",
      "  expert 36: logit = -1.6841, post-softmax = 0.0060\n",
      "  expert 37: logit = -0.4627, post-softmax = 0.0204\n",
      "  expert 38: logit = -0.0183, post-softmax = 0.0318\n",
      "  expert 39: logit = -0.4912, post-softmax = 0.0198\n",
      "  expert 40: logit = -2.5309, post-softmax = 0.0026\n",
      "  expert 41: logit = -2.1597, post-softmax = 0.0037\n",
      "  expert 42: logit = -1.1773, post-softmax = 0.0100\n",
      "  expert 43: logit = -2.5718, post-softmax = 0.0025\n",
      "  expert 44: logit = -2.3015, post-softmax = 0.0032\n",
      "  expert 45: logit = -1.0613, post-softmax = 0.0112\n",
      "  expert 46: logit = -3.5058, post-softmax = 0.0010\n",
      "  expert 47: logit = -2.8856, post-softmax = 0.0018\n",
      "  expert 48: logit = -0.7706, post-softmax = 0.0150\n",
      "  expert 49: logit = -0.1473, post-softmax = 0.0279\n",
      "  expert 50: logit = -0.9149, post-softmax = 0.0130\n",
      "  expert 51: logit = -0.5121, post-softmax = 0.0194\n",
      "  expert 52: logit = -1.0666, post-softmax = 0.0111\n",
      "  expert 53: logit = -1.1157, post-softmax = 0.0106\n",
      "  expert 54: logit = -3.7631, post-softmax = 0.0008\n",
      "  expert 55: logit = 0.8679, post-softmax = 0.0770\n",
      "  expert 56: logit = -2.3383, post-softmax = 0.0031\n",
      "  expert 57: logit = -2.3574, post-softmax = 0.0031\n",
      "  expert 58: logit = -2.1246, post-softmax = 0.0039\n",
      "  expert 59: logit = 0.0049, post-softmax = 0.0325\n",
      "  expert 60: logit = -2.4671, post-softmax = 0.0027\n",
      "  expert 61: logit = -1.1369, post-softmax = 0.0104\n",
      "  expert 62: logit = -1.9230, post-softmax = 0.0047\n",
      "  expert 63: logit = -0.8939, post-softmax = 0.0132\n",
      "\n",
      "Token: ' sample' (ID: 3410)\n",
      "  expert 0: logit = -1.6186, post-softmax = 0.0100\n",
      "  expert 1: logit = -2.0276, post-softmax = 0.0067\n",
      "  expert 2: logit = -0.3293, post-softmax = 0.0364\n",
      "  expert 3: logit = -1.4176, post-softmax = 0.0123\n",
      "  expert 4: logit = -2.2627, post-softmax = 0.0053\n",
      "  expert 5: logit = -1.4076, post-softmax = 0.0124\n",
      "  expert 6: logit = -2.8770, post-softmax = 0.0028\n",
      "  expert 7: logit = -0.8136, post-softmax = 0.0224\n",
      "  expert 8: logit = 0.2514, post-softmax = 0.0650\n",
      "  expert 9: logit = -1.9283, post-softmax = 0.0074\n",
      "  expert 10: logit = -3.0075, post-softmax = 0.0025\n",
      "  expert 11: logit = -3.0151, post-softmax = 0.0025\n",
      "  expert 12: logit = -1.0363, post-softmax = 0.0179\n",
      "  expert 13: logit = -2.9494, post-softmax = 0.0026\n",
      "  expert 14: logit = -1.5863, post-softmax = 0.0104\n",
      "  expert 15: logit = -2.5080, post-softmax = 0.0041\n",
      "  expert 16: logit = -2.2867, post-softmax = 0.0051\n",
      "  expert 17: logit = -0.1846, post-softmax = 0.0421\n",
      "  expert 18: logit = -0.5219, post-softmax = 0.0300\n",
      "  expert 19: logit = -2.0234, post-softmax = 0.0067\n",
      "  expert 20: logit = 0.3728, post-softmax = 0.0734\n",
      "  expert 21: logit = -0.4069, post-softmax = 0.0337\n",
      "  expert 22: logit = -1.2802, post-softmax = 0.0141\n",
      "  expert 23: logit = -0.7343, post-softmax = 0.0243\n",
      "  expert 24: logit = -0.5342, post-softmax = 0.0296\n",
      "  expert 25: logit = -0.7482, post-softmax = 0.0239\n",
      "  expert 26: logit = -1.0614, post-softmax = 0.0175\n",
      "  expert 27: logit = -0.7180, post-softmax = 0.0247\n",
      "  expert 28: logit = -1.5489, post-softmax = 0.0107\n",
      "  expert 29: logit = -1.6741, post-softmax = 0.0095\n",
      "  expert 30: logit = 0.1938, post-softmax = 0.0614\n",
      "  expert 31: logit = -2.0979, post-softmax = 0.0062\n",
      "  expert 32: logit = -3.2011, post-softmax = 0.0021\n",
      "  expert 33: logit = -2.8048, post-softmax = 0.0031\n",
      "  expert 34: logit = -0.6058, post-softmax = 0.0276\n",
      "  expert 35: logit = -2.2319, post-softmax = 0.0054\n",
      "  expert 36: logit = -1.0238, post-softmax = 0.0182\n",
      "  expert 37: logit = -2.5677, post-softmax = 0.0039\n",
      "  expert 38: logit = -1.0036, post-softmax = 0.0185\n",
      "  expert 39: logit = -1.1980, post-softmax = 0.0153\n",
      "  expert 40: logit = -1.6842, post-softmax = 0.0094\n",
      "  expert 41: logit = -2.2035, post-softmax = 0.0056\n",
      "  expert 42: logit = -1.0805, post-softmax = 0.0172\n",
      "  expert 43: logit = -2.3113, post-softmax = 0.0050\n",
      "  expert 44: logit = -1.6676, post-softmax = 0.0095\n",
      "  expert 45: logit = -3.1648, post-softmax = 0.0021\n",
      "  expert 46: logit = -3.3427, post-softmax = 0.0018\n",
      "  expert 47: logit = -0.2505, post-softmax = 0.0394\n",
      "  expert 48: logit = -2.5874, post-softmax = 0.0038\n",
      "  expert 49: logit = -1.8634, post-softmax = 0.0078\n",
      "  expert 50: logit = -2.4533, post-softmax = 0.0044\n",
      "  expert 51: logit = -0.9956, post-softmax = 0.0187\n",
      "  expert 52: logit = -1.4496, post-softmax = 0.0119\n",
      "  expert 53: logit = -2.2077, post-softmax = 0.0056\n",
      "  expert 54: logit = -1.0747, post-softmax = 0.0173\n",
      "  expert 55: logit = -0.2503, post-softmax = 0.0394\n",
      "  expert 56: logit = -2.7053, post-softmax = 0.0034\n",
      "  expert 57: logit = -2.4519, post-softmax = 0.0044\n",
      "  expert 58: logit = -0.6695, post-softmax = 0.0259\n",
      "  expert 59: logit = -0.9239, post-softmax = 0.0201\n",
      "  expert 60: logit = -1.9096, post-softmax = 0.0075\n",
      "  expert 61: logit = -3.3163, post-softmax = 0.0018\n",
      "  expert 62: logit = -2.9198, post-softmax = 0.0027\n",
      "  expert 63: logit = -1.8550, post-softmax = 0.0079\n",
      "\n",
      "Token: ' input' (ID: 3280)\n",
      "  expert 0: logit = -1.4537, post-softmax = 0.0118\n",
      "  expert 1: logit = -1.9222, post-softmax = 0.0074\n",
      "  expert 2: logit = 0.1736, post-softmax = 0.0602\n",
      "  expert 3: logit = -0.7736, post-softmax = 0.0233\n",
      "  expert 4: logit = -1.9608, post-softmax = 0.0071\n",
      "  expert 5: logit = -1.5592, post-softmax = 0.0106\n",
      "  expert 6: logit = -2.2415, post-softmax = 0.0054\n",
      "  expert 7: logit = -2.4474, post-softmax = 0.0044\n",
      "  expert 8: logit = 0.5741, post-softmax = 0.0899\n",
      "  expert 9: logit = -2.1730, post-softmax = 0.0058\n",
      "  expert 10: logit = -2.7313, post-softmax = 0.0033\n",
      "  expert 11: logit = -2.6469, post-softmax = 0.0036\n",
      "  expert 12: logit = -1.2786, post-softmax = 0.0141\n",
      "  expert 13: logit = -2.6756, post-softmax = 0.0035\n",
      "  expert 14: logit = -3.6066, post-softmax = 0.0014\n",
      "  expert 15: logit = -1.6203, post-softmax = 0.0100\n",
      "  expert 16: logit = -2.3016, post-softmax = 0.0051\n",
      "  expert 17: logit = 0.5242, post-softmax = 0.0855\n",
      "  expert 18: logit = -0.9990, post-softmax = 0.0186\n",
      "  expert 19: logit = -2.0136, post-softmax = 0.0068\n",
      "  expert 20: logit = -0.7197, post-softmax = 0.0246\n",
      "  expert 21: logit = -2.2416, post-softmax = 0.0054\n",
      "  expert 22: logit = -1.9389, post-softmax = 0.0073\n",
      "  expert 23: logit = -0.4606, post-softmax = 0.0319\n",
      "  expert 24: logit = -1.0843, post-softmax = 0.0171\n",
      "  expert 25: logit = -1.8120, post-softmax = 0.0083\n",
      "  expert 26: logit = -1.5029, post-softmax = 0.0113\n",
      "  expert 27: logit = -1.6406, post-softmax = 0.0098\n",
      "  expert 28: logit = -1.2361, post-softmax = 0.0147\n",
      "  expert 29: logit = -1.6626, post-softmax = 0.0096\n",
      "  expert 30: logit = 0.5691, post-softmax = 0.0894\n",
      "  expert 31: logit = -1.1704, post-softmax = 0.0157\n",
      "  expert 32: logit = -2.5997, post-softmax = 0.0038\n",
      "  expert 33: logit = -2.1918, post-softmax = 0.0057\n",
      "  expert 34: logit = -0.1771, post-softmax = 0.0424\n",
      "  expert 35: logit = -1.5240, post-softmax = 0.0110\n",
      "  expert 36: logit = -0.1384, post-softmax = 0.0441\n",
      "  expert 37: logit = -3.1188, post-softmax = 0.0022\n",
      "  expert 38: logit = -1.4869, post-softmax = 0.0114\n",
      "  expert 39: logit = -1.9806, post-softmax = 0.0070\n",
      "  expert 40: logit = -2.3685, post-softmax = 0.0047\n",
      "  expert 41: logit = -2.3672, post-softmax = 0.0047\n",
      "  expert 42: logit = -1.9790, post-softmax = 0.0070\n",
      "  expert 43: logit = -1.5204, post-softmax = 0.0111\n",
      "  expert 44: logit = -1.7402, post-softmax = 0.0089\n",
      "  expert 45: logit = -3.5046, post-softmax = 0.0015\n",
      "  expert 46: logit = -3.2146, post-softmax = 0.0020\n",
      "  expert 47: logit = -0.0465, post-softmax = 0.0483\n",
      "  expert 48: logit = -2.8867, post-softmax = 0.0028\n",
      "  expert 49: logit = -3.0336, post-softmax = 0.0024\n",
      "  expert 50: logit = -2.9073, post-softmax = 0.0028\n",
      "  expert 51: logit = -1.5352, post-softmax = 0.0109\n",
      "  expert 52: logit = -1.5242, post-softmax = 0.0110\n",
      "  expert 53: logit = -1.6434, post-softmax = 0.0098\n",
      "  expert 54: logit = -0.8120, post-softmax = 0.0225\n",
      "  expert 55: logit = -2.1967, post-softmax = 0.0056\n",
      "  expert 56: logit = -3.1300, post-softmax = 0.0022\n",
      "  expert 57: logit = -1.9968, post-softmax = 0.0069\n",
      "  expert 58: logit = 0.0728, post-softmax = 0.0544\n",
      "  expert 59: logit = -1.1882, post-softmax = 0.0154\n",
      "  expert 60: logit = -2.0185, post-softmax = 0.0067\n",
      "  expert 61: logit = -4.1215, post-softmax = 0.0008\n",
      "  expert 62: logit = -2.3089, post-softmax = 0.0050\n",
      "  expert 63: logit = -3.2162, post-softmax = 0.0020\n",
      "\n",
      "\n",
      "Top 8 experts for each token:\n",
      "Token: 'this' (ID: 2520)\n",
      "  1. expert 63: expert = 0.1074\n",
      "  2. expert 28: expert = 0.0914\n",
      "  3. expert 44: expert = 0.0822\n",
      "  4. expert 20: expert = 0.0604\n",
      "  5. expert 24: expert = 0.0495\n",
      "  6. expert 36: expert = 0.0397\n",
      "  7. expert 30: expert = 0.0373\n",
      "  8. expert 17: expert = 0.0336\n",
      "\n",
      "Token: ' is' (ID: 310)\n",
      "  1. expert 62: expert = 0.0836\n",
      "  2. expert 15: expert = 0.0704\n",
      "  3. expert 13: expert = 0.0372\n",
      "  4. expert 10: expert = 0.0342\n",
      "  5. expert 30: expert = 0.0298\n",
      "  6. expert 46: expert = 0.0266\n",
      "  7. expert 17: expert = 0.0265\n",
      "  8. expert 24: expert = 0.0257\n",
      "\n",
      "Token: ' a' (ID: 247)\n",
      "  1. expert 20: expert = 0.1098\n",
      "  2. expert 55: expert = 0.0770\n",
      "  3. expert 7: expert = 0.0619\n",
      "  4. expert 21: expert = 0.0552\n",
      "  5. expert 27: expert = 0.0426\n",
      "  6. expert 14: expert = 0.0344\n",
      "  7. expert 59: expert = 0.0325\n",
      "  8. expert 38: expert = 0.0318\n",
      "\n",
      "Token: ' sample' (ID: 3410)\n",
      "  1. expert 20: expert = 0.0734\n",
      "  2. expert 8: expert = 0.0650\n",
      "  3. expert 30: expert = 0.0614\n",
      "  4. expert 17: expert = 0.0421\n",
      "  5. expert 55: expert = 0.0394\n",
      "  6. expert 47: expert = 0.0394\n",
      "  7. expert 2: expert = 0.0364\n",
      "  8. expert 21: expert = 0.0337\n",
      "\n",
      "Token: ' input' (ID: 3280)\n",
      "  1. expert 8: expert = 0.0899\n",
      "  2. expert 30: expert = 0.0894\n",
      "  3. expert 17: expert = 0.0855\n",
      "  4. expert 2: expert = 0.0602\n",
      "  5. expert 58: expert = 0.0544\n",
      "  6. expert 47: expert = 0.0483\n",
      "  7. expert 36: expert = 0.0441\n",
      "  8. expert 34: expert = 0.0424\n",
      "\n"
     ]
    }
   ],
   "source": [
    "# Prepare input text\n",
    "input_text = \"this is a sample input\"\n",
    "\n",
    "# Tokenize the input\n",
    "inputs = tokenizer(input_text, return_tensors=\"pt\")\n",
    "\n",
    "# Print the tokenized input\n",
    "print(\"Tokenized input:\")\n",
    "for token_id in inputs.input_ids[0]:\n",
    "    token = tokenizer.decode([token_id])\n",
    "    print(f\"Token: '{token}', ID: {token_id.item()}\")\n",
    "\n",
    "print(\"\\nInput shape:\", inputs.input_ids.shape)\n",
    "\n",
    "\n",
    "# Forward pass with output_router_logits=True\n",
    "with torch.no_grad():\n",
    "    outputs = model(**inputs, output_router_logits=True)\n",
    "\n",
    "# Get the router logits from the last layer\n",
    "last_layer_router_logits = outputs.router_logits[-1]\n",
    "\n",
    "# Print router logits and probabilities for each token\n",
    "for token_idx, token_id in enumerate(inputs.input_ids[0]):\n",
    "    token = tokenizer.decode([token_id])\n",
    "    logits = last_layer_router_logits[token_idx]\n",
    "    probabilities = F.softmax(logits, dim=-1)\n",
    "    \n",
    "    print(f\"Token: '{token}' (ID: {token_id.item()})\")\n",
    "    for expert_idx, (logit, prob) in enumerate(zip(logits, probabilities)):\n",
    "        print(f\"  expert {expert_idx}: logit = {logit.item():.4f}, post-softmax = {prob.item():.4f}\")\n",
    "    print()\n",
    "\n",
    "# Print the top-k experts for each token\n",
    "k = 8  # Number of top experts to show\n",
    "print(f\"\\nTop {k} experts for each token:\")\n",
    "for token_idx, token_id in enumerate(inputs.input_ids[0]):\n",
    "    token = tokenizer.decode([token_id])\n",
    "    logits = last_layer_router_logits[token_idx]\n",
    "    probabilities = F.softmax(logits, dim=-1)\n",
    "    top_k_probs, top_k_indices = torch.topk(probabilities, k)\n",
    "    \n",
    "    print(f\"Token: '{token}' (ID: {token_id.item()})\")\n",
    "    for i, (prob, idx) in enumerate(zip(top_k_probs, top_k_indices)):\n",
    "        print(f\"  {i+1}. expert {idx.item()}: expert = {prob.item():.4f}\")\n",
    "    print()"
   ]
  },
  {
   "cell_type": "markdown",
   "metadata": {},
   "source": [
    "### for plotting"
   ]
  },
  {
   "cell_type": "code",
   "execution_count": 6,
   "metadata": {},
   "outputs": [
    {
     "data": {
      "application/vnd.plotly.v1+json": {
       "config": {
        "plotlyServerURL": "https://plot.ly"
       },
       "data": [
        {
         "colorbar": {
          "title": {
           "text": "Probability"
          }
         },
         "colorscale": [
          [
           0,
           "#440154"
          ],
          [
           0.1111111111111111,
           "#482878"
          ],
          [
           0.2222222222222222,
           "#3e4989"
          ],
          [
           0.3333333333333333,
           "#31688e"
          ],
          [
           0.4444444444444444,
           "#26828e"
          ],
          [
           0.5555555555555556,
           "#1f9e89"
          ],
          [
           0.6666666666666666,
           "#35b779"
          ],
          [
           0.7777777777777778,
           "#6ece58"
          ],
          [
           0.8888888888888888,
           "#b5de2b"
          ],
          [
           1,
           "#fde725"
          ]
         ],
         "hovertemplate": "Token: %{y}<br>Expert: %{x}<br>Probability: %{z:.4f}<extra></extra>",
         "type": "heatmap",
         "x": [
          "Expert 0",
          "Expert 1",
          "Expert 2",
          "Expert 3",
          "Expert 4",
          "Expert 5",
          "Expert 6",
          "Expert 7",
          "Expert 8",
          "Expert 9",
          "Expert 10",
          "Expert 11",
          "Expert 12",
          "Expert 13",
          "Expert 14",
          "Expert 15",
          "Expert 16",
          "Expert 17",
          "Expert 18",
          "Expert 19",
          "Expert 20",
          "Expert 21",
          "Expert 22",
          "Expert 23",
          "Expert 24",
          "Expert 25",
          "Expert 26",
          "Expert 27",
          "Expert 28",
          "Expert 29",
          "Expert 30",
          "Expert 31",
          "Expert 32",
          "Expert 33",
          "Expert 34",
          "Expert 35",
          "Expert 36",
          "Expert 37",
          "Expert 38",
          "Expert 39",
          "Expert 40",
          "Expert 41",
          "Expert 42",
          "Expert 43",
          "Expert 44",
          "Expert 45",
          "Expert 46",
          "Expert 47",
          "Expert 48",
          "Expert 49",
          "Expert 50",
          "Expert 51",
          "Expert 52",
          "Expert 53",
          "Expert 54",
          "Expert 55",
          "Expert 56",
          "Expert 57",
          "Expert 58",
          "Expert 59",
          "Expert 60",
          "Expert 61",
          "Expert 62",
          "Expert 63"
         ],
         "y": [
          "this",
          " is",
          " a",
          " sample",
          " input"
         ],
         "z": [
          [
           0.02527368813753128,
           0.02297401987016201,
           0.009787033312022686,
           0.0032919333316385746,
           0.010741887614130974,
           0.010028542950749397,
           0.006757861934602261,
           0.003389523597434163,
           0.021478353068232536,
           0.004310736432671547,
           0.005599339958280325,
           0.008336800150573254,
           0.01053276751190424,
           0.006485351826995611,
           0.007572027388960123,
           0.007311861962080002,
           0.005262821447104216,
           0.03359677270054817,
           0.010304111987352371,
           0.012141305953264236,
           0.06038431078195572,
           0.009079188108444214,
           0.015516422688961029,
           0.009514384903013706,
           0.04952013120055199,
           0.0048179118894040585,
           0.0016633545747026801,
           0.003289558459073305,
           0.09136945009231567,
           0.0073954155668616295,
           0.03726249188184738,
           0.01848752424120903,
           0.0029691322706639767,
           0.0004710741341114044,
           0.010776801034808159,
           0.021668139845132828,
           0.03966910019516945,
           0.017321515828371048,
           0.003938567359000444,
           0.0032979799434542656,
           0.025169670581817627,
           0.011098927818238735,
           0.014196199364960194,
           0.018405985087156296,
           0.08218126744031906,
           0.0011475291103124619,
           0.0042342874221503735,
           0.005624689627438784,
           0.0014103573048487306,
           0.002898293314501643,
           0.004518181085586548,
           0.007232170086354017,
           0.0036255246959626675,
           0.013017288409173489,
           0.004446770995855331,
           0.01758383959531784,
           0.0073502822779119015,
           0.006864579394459724,
           0.009381243959069252,
           0.007067476399242878,
           0.002941661514341831,
           0.00320469425059855,
           0.005439049564301968,
           0.10737089812755585
          ],
          [
           0.01174086332321167,
           0.0070662666112184525,
           0.001969405682757497,
           0.020548619329929352,
           0.013602540828287601,
           0.0030874493531882763,
           0.010964157991111279,
           0.02437153086066246,
           0.023725595325231552,
           0.017982855439186096,
           0.03416871279478073,
           0.00981155689805746,
           0.020352929830551147,
           0.03721264377236366,
           0.018067456781864166,
           0.07044152915477753,
           0.015157239511609077,
           0.02652200683951378,
           0.01655626855790615,
           0.0027641612105071545,
           0.0058264536783099174,
           0.006296711973845959,
           0.006789791863411665,
           0.0017096196534112096,
           0.02573075145483017,
           0.01316619012504816,
           0.01188313402235508,
           0.01748810149729252,
           0.007062125019729137,
           0.018407078459858894,
           0.02981087751686573,
           0.006488315761089325,
           0.010051652789115906,
           0.005718562286347151,
           0.022406958043575287,
           0.012101095169782639,
           0.007921835407614708,
           0.010283207520842552,
           0.020470846444368362,
           0.014224440790712833,
           0.0038685037288814783,
           0.003487079869955778,
           0.007099084090441465,
           0.006189474370330572,
           0.005772679578512907,
           0.017949989065527916,
           0.026584003120660782,
           0.008843755349516869,
           0.022219203412532806,
           0.024052724242210388,
           0.02163396030664444,
           0.015530437231063843,
           0.010610629804432392,
           0.007767089176923037,
           0.003933574538677931,
           0.003497384488582611,
           0.01145581342279911,
           0.0061041186563670635,
           0.006116508971899748,
           0.02529727853834629,
           0.005887798964977264,
           0.015232546254992485,
           0.0835816040635109,
           0.017333179712295532
          ],
          [
           0.008174007758498192,
           0.004826716147363186,
           0.0006911054369993508,
           0.01727069355547428,
           0.004104809835553169,
           0.0011563008883967996,
           0.009156244806945324,
           0.06186012923717499,
           0.021371744573116302,
           0.010195677168667316,
           0.0016287231119349599,
           0.0021525693591684103,
           0.017198676243424416,
           0.001916983863338828,
           0.034355174750089645,
           0.005151977296918631,
           0.005415239837020636,
           0.0184845719486475,
           0.019140925258398056,
           0.0027621579356491566,
           0.10976193100214005,
           0.05515339598059654,
           0.010962936095893383,
           0.0011202860623598099,
           0.018864518031477928,
           0.029483914375305176,
           0.028496338054537773,
           0.04261963441967964,
           0.004369914066046476,
           0.01234207209199667,
           0.03005126863718033,
           0.004152206238359213,
           0.006286100018769503,
           0.006893659941852093,
           0.02228691428899765,
           0.007930551655590534,
           0.0060031842440366745,
           0.020361730828881264,
           0.0317561998963356,
           0.019789570942521095,
           0.002574050799012184,
           0.003730850061401725,
           0.009964694269001484,
           0.0024708991404622793,
           0.0032376388553529978,
           0.011190288700163364,
           0.0009710314334370196,
           0.0018054285319522023,
           0.014965593814849854,
           0.027913296595215797,
           0.012955138459801674,
           0.019380340352654457,
           0.011131977662444115,
           0.010598287917673588,
           0.0007507514674216509,
           0.07703305780887604,
           0.003120789071545005,
           0.003061643335968256,
           0.003864476690068841,
           0.03250163421034813,
           0.0027436281088739634,
           0.010376271791756153,
           0.004727466963231564,
           0.013229986652731895
          ],
          [
           0.010023553855717182,
           0.006658764556050301,
           0.03638746216893196,
           0.012254435569047928,
           0.005263838917016983,
           0.012378299608826637,
           0.002847690600901842,
           0.022419247776269913,
           0.06503409892320633,
           0.007353798020631075,
           0.002499297261238098,
           0.0024805269204080105,
           0.01794377900660038,
           0.002648984780535102,
           0.010352054610848427,
           0.004118728917092085,
           0.005139043089002371,
           0.042051177471876144,
           0.030011706054210663,
           0.0066867186687886715,
           0.07342876493930817,
           0.03366927430033684,
           0.014059759676456451,
           0.02426898665726185,
           0.029644830152392387,
           0.023934707045555115,
           0.017499452456831932,
           0.024669505655765533,
           0.010747503489255905,
           0.009482435882091522,
           0.06139591336250305,
           0.006206630263477564,
           0.0020593751687556505,
           0.0030608896631747484,
           0.027597634121775627,
           0.0054284511134028435,
           0.018168652430176735,
           0.003879961557686329,
           0.018540158867836,
           0.015263921581208706,
           0.00938707496970892,
           0.0055847312323749065,
           0.01716853491961956,
           0.005013819318264723,
           0.009544424712657928,
           0.0021356239449232817,
           0.001787436893209815,
           0.03937213867902756,
           0.003804197069257498,
           0.00784674845635891,
           0.00435025105252862,
           0.01868911273777485,
           0.011868597939610481,
           0.005561180412769318,
           0.01726740412414074,
           0.03937947005033493,
           0.0033813018817454576,
           0.004356171004474163,
           0.02589346654713154,
           0.02007829025387764,
           0.007492612581700087,
           0.0018353159539401531,
           0.002728526946157217,
           0.007913547568023205
          ],
          [
           0.01182758342474699,
           0.0074033066630363464,
           0.06020461767911911,
           0.023348670452833176,
           0.007123181130737066,
           0.010643542744219303,
           0.005379318725317717,
           0.004378435201942921,
           0.08985207974910736,
           0.0057607959024608135,
           0.0032964579295367002,
           0.0035867630504071712,
           0.014090197160840034,
           0.0034850705415010452,
           0.0013737098779529333,
           0.010012296959757805,
           0.005065778736025095,
           0.08548258244991302,
           0.01863575354218483,
           0.006756488233804703,
           0.024641381576657295,
           0.005378927569836378,
           0.007280339021235704,
           0.031927552074193954,
           0.01711331307888031,
           0.008265524171292782,
           0.011259399354457855,
           0.009810957126319408,
           0.014701907522976398,
           0.00959775596857071,
           0.08940532058477402,
           0.01570029743015766,
           0.0037601497024297714,
           0.005653675179928541,
           0.04239360988140106,
           0.011024829000234604,
           0.044067297130823135,
           0.0022374659311026335,
           0.0114412447437644,
           0.006982877384871244,
           0.00473798718303442,
           0.0047441329807043076,
           0.0069945259019732475,
           0.011064570397138596,
           0.008881269954144955,
           0.0015212537255138159,
           0.0020330213010311127,
           0.04831070080399513,
           0.0028219723608344793,
           0.0024364448618143797,
           0.002764291362836957,
           0.010901110246777534,
           0.011022496037185192,
           0.009783144108951092,
           0.02246742509305477,
           0.005626034922897816,
           0.0022123903036117554,
           0.006870690267533064,
           0.05442974716424942,
           0.01542328018695116,
           0.006723438389599323,
           0.0008209099760279059,
           0.005029063671827316,
           0.002029673894867301
          ]
         ]
        }
       ],
       "layout": {
        "height": 800,
        "template": {
         "data": {
          "bar": [
           {
            "error_x": {
             "color": "#2a3f5f"
            },
            "error_y": {
             "color": "#2a3f5f"
            },
            "marker": {
             "line": {
              "color": "#E5ECF6",
              "width": 0.5
             },
             "pattern": {
              "fillmode": "overlay",
              "size": 10,
              "solidity": 0.2
             }
            },
            "type": "bar"
           }
          ],
          "barpolar": [
           {
            "marker": {
             "line": {
              "color": "#E5ECF6",
              "width": 0.5
             },
             "pattern": {
              "fillmode": "overlay",
              "size": 10,
              "solidity": 0.2
             }
            },
            "type": "barpolar"
           }
          ],
          "carpet": [
           {
            "aaxis": {
             "endlinecolor": "#2a3f5f",
             "gridcolor": "white",
             "linecolor": "white",
             "minorgridcolor": "white",
             "startlinecolor": "#2a3f5f"
            },
            "baxis": {
             "endlinecolor": "#2a3f5f",
             "gridcolor": "white",
             "linecolor": "white",
             "minorgridcolor": "white",
             "startlinecolor": "#2a3f5f"
            },
            "type": "carpet"
           }
          ],
          "choropleth": [
           {
            "colorbar": {
             "outlinewidth": 0,
             "ticks": ""
            },
            "type": "choropleth"
           }
          ],
          "contour": [
           {
            "colorbar": {
             "outlinewidth": 0,
             "ticks": ""
            },
            "colorscale": [
             [
              0,
              "#0d0887"
             ],
             [
              0.1111111111111111,
              "#46039f"
             ],
             [
              0.2222222222222222,
              "#7201a8"
             ],
             [
              0.3333333333333333,
              "#9c179e"
             ],
             [
              0.4444444444444444,
              "#bd3786"
             ],
             [
              0.5555555555555556,
              "#d8576b"
             ],
             [
              0.6666666666666666,
              "#ed7953"
             ],
             [
              0.7777777777777778,
              "#fb9f3a"
             ],
             [
              0.8888888888888888,
              "#fdca26"
             ],
             [
              1,
              "#f0f921"
             ]
            ],
            "type": "contour"
           }
          ],
          "contourcarpet": [
           {
            "colorbar": {
             "outlinewidth": 0,
             "ticks": ""
            },
            "type": "contourcarpet"
           }
          ],
          "heatmap": [
           {
            "colorbar": {
             "outlinewidth": 0,
             "ticks": ""
            },
            "colorscale": [
             [
              0,
              "#0d0887"
             ],
             [
              0.1111111111111111,
              "#46039f"
             ],
             [
              0.2222222222222222,
              "#7201a8"
             ],
             [
              0.3333333333333333,
              "#9c179e"
             ],
             [
              0.4444444444444444,
              "#bd3786"
             ],
             [
              0.5555555555555556,
              "#d8576b"
             ],
             [
              0.6666666666666666,
              "#ed7953"
             ],
             [
              0.7777777777777778,
              "#fb9f3a"
             ],
             [
              0.8888888888888888,
              "#fdca26"
             ],
             [
              1,
              "#f0f921"
             ]
            ],
            "type": "heatmap"
           }
          ],
          "heatmapgl": [
           {
            "colorbar": {
             "outlinewidth": 0,
             "ticks": ""
            },
            "colorscale": [
             [
              0,
              "#0d0887"
             ],
             [
              0.1111111111111111,
              "#46039f"
             ],
             [
              0.2222222222222222,
              "#7201a8"
             ],
             [
              0.3333333333333333,
              "#9c179e"
             ],
             [
              0.4444444444444444,
              "#bd3786"
             ],
             [
              0.5555555555555556,
              "#d8576b"
             ],
             [
              0.6666666666666666,
              "#ed7953"
             ],
             [
              0.7777777777777778,
              "#fb9f3a"
             ],
             [
              0.8888888888888888,
              "#fdca26"
             ],
             [
              1,
              "#f0f921"
             ]
            ],
            "type": "heatmapgl"
           }
          ],
          "histogram": [
           {
            "marker": {
             "pattern": {
              "fillmode": "overlay",
              "size": 10,
              "solidity": 0.2
             }
            },
            "type": "histogram"
           }
          ],
          "histogram2d": [
           {
            "colorbar": {
             "outlinewidth": 0,
             "ticks": ""
            },
            "colorscale": [
             [
              0,
              "#0d0887"
             ],
             [
              0.1111111111111111,
              "#46039f"
             ],
             [
              0.2222222222222222,
              "#7201a8"
             ],
             [
              0.3333333333333333,
              "#9c179e"
             ],
             [
              0.4444444444444444,
              "#bd3786"
             ],
             [
              0.5555555555555556,
              "#d8576b"
             ],
             [
              0.6666666666666666,
              "#ed7953"
             ],
             [
              0.7777777777777778,
              "#fb9f3a"
             ],
             [
              0.8888888888888888,
              "#fdca26"
             ],
             [
              1,
              "#f0f921"
             ]
            ],
            "type": "histogram2d"
           }
          ],
          "histogram2dcontour": [
           {
            "colorbar": {
             "outlinewidth": 0,
             "ticks": ""
            },
            "colorscale": [
             [
              0,
              "#0d0887"
             ],
             [
              0.1111111111111111,
              "#46039f"
             ],
             [
              0.2222222222222222,
              "#7201a8"
             ],
             [
              0.3333333333333333,
              "#9c179e"
             ],
             [
              0.4444444444444444,
              "#bd3786"
             ],
             [
              0.5555555555555556,
              "#d8576b"
             ],
             [
              0.6666666666666666,
              "#ed7953"
             ],
             [
              0.7777777777777778,
              "#fb9f3a"
             ],
             [
              0.8888888888888888,
              "#fdca26"
             ],
             [
              1,
              "#f0f921"
             ]
            ],
            "type": "histogram2dcontour"
           }
          ],
          "mesh3d": [
           {
            "colorbar": {
             "outlinewidth": 0,
             "ticks": ""
            },
            "type": "mesh3d"
           }
          ],
          "parcoords": [
           {
            "line": {
             "colorbar": {
              "outlinewidth": 0,
              "ticks": ""
             }
            },
            "type": "parcoords"
           }
          ],
          "pie": [
           {
            "automargin": true,
            "type": "pie"
           }
          ],
          "scatter": [
           {
            "fillpattern": {
             "fillmode": "overlay",
             "size": 10,
             "solidity": 0.2
            },
            "type": "scatter"
           }
          ],
          "scatter3d": [
           {
            "line": {
             "colorbar": {
              "outlinewidth": 0,
              "ticks": ""
             }
            },
            "marker": {
             "colorbar": {
              "outlinewidth": 0,
              "ticks": ""
             }
            },
            "type": "scatter3d"
           }
          ],
          "scattercarpet": [
           {
            "marker": {
             "colorbar": {
              "outlinewidth": 0,
              "ticks": ""
             }
            },
            "type": "scattercarpet"
           }
          ],
          "scattergeo": [
           {
            "marker": {
             "colorbar": {
              "outlinewidth": 0,
              "ticks": ""
             }
            },
            "type": "scattergeo"
           }
          ],
          "scattergl": [
           {
            "marker": {
             "colorbar": {
              "outlinewidth": 0,
              "ticks": ""
             }
            },
            "type": "scattergl"
           }
          ],
          "scattermapbox": [
           {
            "marker": {
             "colorbar": {
              "outlinewidth": 0,
              "ticks": ""
             }
            },
            "type": "scattermapbox"
           }
          ],
          "scatterpolar": [
           {
            "marker": {
             "colorbar": {
              "outlinewidth": 0,
              "ticks": ""
             }
            },
            "type": "scatterpolar"
           }
          ],
          "scatterpolargl": [
           {
            "marker": {
             "colorbar": {
              "outlinewidth": 0,
              "ticks": ""
             }
            },
            "type": "scatterpolargl"
           }
          ],
          "scatterternary": [
           {
            "marker": {
             "colorbar": {
              "outlinewidth": 0,
              "ticks": ""
             }
            },
            "type": "scatterternary"
           }
          ],
          "surface": [
           {
            "colorbar": {
             "outlinewidth": 0,
             "ticks": ""
            },
            "colorscale": [
             [
              0,
              "#0d0887"
             ],
             [
              0.1111111111111111,
              "#46039f"
             ],
             [
              0.2222222222222222,
              "#7201a8"
             ],
             [
              0.3333333333333333,
              "#9c179e"
             ],
             [
              0.4444444444444444,
              "#bd3786"
             ],
             [
              0.5555555555555556,
              "#d8576b"
             ],
             [
              0.6666666666666666,
              "#ed7953"
             ],
             [
              0.7777777777777778,
              "#fb9f3a"
             ],
             [
              0.8888888888888888,
              "#fdca26"
             ],
             [
              1,
              "#f0f921"
             ]
            ],
            "type": "surface"
           }
          ],
          "table": [
           {
            "cells": {
             "fill": {
              "color": "#EBF0F8"
             },
             "line": {
              "color": "white"
             }
            },
            "header": {
             "fill": {
              "color": "#C8D4E3"
             },
             "line": {
              "color": "white"
             }
            },
            "type": "table"
           }
          ]
         },
         "layout": {
          "annotationdefaults": {
           "arrowcolor": "#2a3f5f",
           "arrowhead": 0,
           "arrowwidth": 1
          },
          "autotypenumbers": "strict",
          "coloraxis": {
           "colorbar": {
            "outlinewidth": 0,
            "ticks": ""
           }
          },
          "colorscale": {
           "diverging": [
            [
             0,
             "#8e0152"
            ],
            [
             0.1,
             "#c51b7d"
            ],
            [
             0.2,
             "#de77ae"
            ],
            [
             0.3,
             "#f1b6da"
            ],
            [
             0.4,
             "#fde0ef"
            ],
            [
             0.5,
             "#f7f7f7"
            ],
            [
             0.6,
             "#e6f5d0"
            ],
            [
             0.7,
             "#b8e186"
            ],
            [
             0.8,
             "#7fbc41"
            ],
            [
             0.9,
             "#4d9221"
            ],
            [
             1,
             "#276419"
            ]
           ],
           "sequential": [
            [
             0,
             "#0d0887"
            ],
            [
             0.1111111111111111,
             "#46039f"
            ],
            [
             0.2222222222222222,
             "#7201a8"
            ],
            [
             0.3333333333333333,
             "#9c179e"
            ],
            [
             0.4444444444444444,
             "#bd3786"
            ],
            [
             0.5555555555555556,
             "#d8576b"
            ],
            [
             0.6666666666666666,
             "#ed7953"
            ],
            [
             0.7777777777777778,
             "#fb9f3a"
            ],
            [
             0.8888888888888888,
             "#fdca26"
            ],
            [
             1,
             "#f0f921"
            ]
           ],
           "sequentialminus": [
            [
             0,
             "#0d0887"
            ],
            [
             0.1111111111111111,
             "#46039f"
            ],
            [
             0.2222222222222222,
             "#7201a8"
            ],
            [
             0.3333333333333333,
             "#9c179e"
            ],
            [
             0.4444444444444444,
             "#bd3786"
            ],
            [
             0.5555555555555556,
             "#d8576b"
            ],
            [
             0.6666666666666666,
             "#ed7953"
            ],
            [
             0.7777777777777778,
             "#fb9f3a"
            ],
            [
             0.8888888888888888,
             "#fdca26"
            ],
            [
             1,
             "#f0f921"
            ]
           ]
          },
          "colorway": [
           "#636efa",
           "#EF553B",
           "#00cc96",
           "#ab63fa",
           "#FFA15A",
           "#19d3f3",
           "#FF6692",
           "#B6E880",
           "#FF97FF",
           "#FECB52"
          ],
          "font": {
           "color": "#2a3f5f"
          },
          "geo": {
           "bgcolor": "white",
           "lakecolor": "white",
           "landcolor": "#E5ECF6",
           "showlakes": true,
           "showland": true,
           "subunitcolor": "white"
          },
          "hoverlabel": {
           "align": "left"
          },
          "hovermode": "closest",
          "mapbox": {
           "style": "light"
          },
          "paper_bgcolor": "white",
          "plot_bgcolor": "#E5ECF6",
          "polar": {
           "angularaxis": {
            "gridcolor": "white",
            "linecolor": "white",
            "ticks": ""
           },
           "bgcolor": "#E5ECF6",
           "radialaxis": {
            "gridcolor": "white",
            "linecolor": "white",
            "ticks": ""
           }
          },
          "scene": {
           "xaxis": {
            "backgroundcolor": "#E5ECF6",
            "gridcolor": "white",
            "gridwidth": 2,
            "linecolor": "white",
            "showbackground": true,
            "ticks": "",
            "zerolinecolor": "white"
           },
           "yaxis": {
            "backgroundcolor": "#E5ECF6",
            "gridcolor": "white",
            "gridwidth": 2,
            "linecolor": "white",
            "showbackground": true,
            "ticks": "",
            "zerolinecolor": "white"
           },
           "zaxis": {
            "backgroundcolor": "#E5ECF6",
            "gridcolor": "white",
            "gridwidth": 2,
            "linecolor": "white",
            "showbackground": true,
            "ticks": "",
            "zerolinecolor": "white"
           }
          },
          "shapedefaults": {
           "line": {
            "color": "#2a3f5f"
           }
          },
          "ternary": {
           "aaxis": {
            "gridcolor": "white",
            "linecolor": "white",
            "ticks": ""
           },
           "baxis": {
            "gridcolor": "white",
            "linecolor": "white",
            "ticks": ""
           },
           "bgcolor": "#E5ECF6",
           "caxis": {
            "gridcolor": "white",
            "linecolor": "white",
            "ticks": ""
           }
          },
          "title": {
           "x": 0.05
          },
          "xaxis": {
           "automargin": true,
           "gridcolor": "white",
           "linecolor": "white",
           "ticks": "",
           "title": {
            "standoff": 15
           },
           "zerolinecolor": "white",
           "zerolinewidth": 2
          },
          "yaxis": {
           "automargin": true,
           "gridcolor": "white",
           "linecolor": "white",
           "ticks": "",
           "title": {
            "standoff": 15
           },
           "zerolinecolor": "white",
           "zerolinewidth": 2
          }
         }
        },
        "title": {
         "text": "Expert vs Token Heatmap"
        },
        "width": 1000,
        "xaxis": {
         "title": {
          "text": "Experts"
         }
        },
        "yaxis": {
         "title": {
          "text": "Tokens"
         }
        }
       }
      }
     },
     "metadata": {},
     "output_type": "display_data"
    }
   ],
   "source": [
    "import plotly.graph_objects as go\n",
    "import pandas as pd\n",
    "\n",
    "# Convert router logits to probabilities\n",
    "probabilities = F.softmax(last_layer_router_logits, dim=-1).cpu().numpy()\n",
    "\n",
    "# Create a list of tokens\n",
    "tokens = [tokenizer.decode([token_id]) for token_id in inputs.input_ids[0]]\n",
    "\n",
    "# Create a DataFrame for the heatmap\n",
    "df = pd.DataFrame(probabilities, index=tokens)\n",
    "\n",
    "# Create the heatmap using Plotly\n",
    "fig = go.Figure(data=go.Heatmap(\n",
    "    z=probabilities,\n",
    "    x=[f'Expert {i}' for i in range(probabilities.shape[1])],\n",
    "    y=tokens,\n",
    "    colorscale='Viridis',\n",
    "    colorbar=dict(title='Probability'),\n",
    "    hovertemplate='Token: %{y}<br>Expert: %{x}<br>Probability: %{z:.4f}<extra></extra>'\n",
    "))\n",
    "\n",
    "# Update layout\n",
    "fig.update_layout(\n",
    "    title='Expert vs Token Heatmap',\n",
    "    xaxis_title='Experts',\n",
    "    yaxis_title='Tokens',\n",
    "    width=1000,\n",
    "    height=800,\n",
    ")\n",
    "\n",
    "# Show the plot\n",
    "fig.show()\n",
    "\n",
    "# Save the plot as an HTML file (optional)\n",
    "fig.write_html(\"expert_token_heatmap.html\")\n"
   ]
  }
 ],
 "metadata": {
  "kernelspec": {
   "display_name": "ai_env",
   "language": "python",
   "name": "python3"
  },
  "language_info": {
   "codemirror_mode": {
    "name": "ipython",
    "version": 3
   },
   "file_extension": ".py",
   "mimetype": "text/x-python",
   "name": "python",
   "nbconvert_exporter": "python",
   "pygments_lexer": "ipython3",
   "version": "3.10.13"
  }
 },
 "nbformat": 4,
 "nbformat_minor": 2
}
